{
 "cells": [
  {
   "cell_type": "markdown",
   "metadata": {
    "collapsed": false
   },
   "source": [
    "### 本方案采用textrank4zh包实现问答摘要任务，取得了学习赛目前最高成绩，但得分仍然不高。\n",
    "### 基于深度学习的文本生成模型（bart）等可能会取得更好的效果，期待paddle框架早日引入中文bart模型（认真脸）"
   ]
  },
  {
   "cell_type": "code",
   "execution_count": 1,
   "metadata": {
    "collapsed": false
   },
   "outputs": [
    {
     "name": "stdout",
     "output_type": "stream",
     "text": [
      "Looking in indexes: https://pypi.tuna.tsinghua.edu.cn/simple\n",
      "Collecting textrank4zh\n",
      "  Downloading https://pypi.tuna.tsinghua.edu.cn/packages/20/95/db33aa17260781c6336afddbe2e7ca75ab7529810a3341a009fa9869ed9a/textrank4zh-0.3.zip (13 kB)\n",
      "  Preparing metadata (setup.py) ... \u001b[?25ldone\n",
      "\u001b[?25hRequirement already satisfied: jieba>=0.35 in /opt/conda/envs/python35-paddle120-env/lib/python3.7/site-packages (from textrank4zh) (0.42.1)\n",
      "Requirement already satisfied: numpy>=1.7.1 in /opt/conda/envs/python35-paddle120-env/lib/python3.7/site-packages (from textrank4zh) (1.19.5)\n",
      "Requirement already satisfied: networkx>=1.9.1 in /opt/conda/envs/python35-paddle120-env/lib/python3.7/site-packages (from textrank4zh) (2.4)\n",
      "Requirement already satisfied: decorator>=4.3.0 in /opt/conda/envs/python35-paddle120-env/lib/python3.7/site-packages (from networkx>=1.9.1->textrank4zh) (4.4.2)\n",
      "Building wheels for collected packages: textrank4zh\n",
      "  Building wheel for textrank4zh (setup.py) ... \u001b[?25ldone\n",
      "\u001b[?25h  Created wheel for textrank4zh: filename=textrank4zh-0.3-py3-none-any.whl size=13419 sha256=92ef872b04259708c33a12d1978af9ab65912cfc2db906be99296a448fed0633\n",
      "  Stored in directory: /home/aistudio/.cache/pip/wheels/af/c0/58/6ff06cd50dccfef4ee3bd37100a2ea0795ce7f80d8a97aecac\n",
      "Successfully built textrank4zh\n",
      "Installing collected packages: textrank4zh\n",
      "Successfully installed textrank4zh-0.3\n",
      "\n",
      "\u001b[1m[\u001b[0m\u001b[34;49mnotice\u001b[0m\u001b[1;39;49m]\u001b[0m\u001b[39;49m A new release of pip available: \u001b[0m\u001b[31;49m22.1.2\u001b[0m\u001b[39;49m -> \u001b[0m\u001b[32;49m22.2.2\u001b[0m\n",
      "\u001b[1m[\u001b[0m\u001b[34;49mnotice\u001b[0m\u001b[1;39;49m]\u001b[0m\u001b[39;49m To update, run: \u001b[0m\u001b[32;49mpip install --upgrade pip\u001b[0m\n"
     ]
    }
   ],
   "source": [
    "# 导入pandas和textrank4zh\r\n",
    "import pandas as pd\r\n",
    "import numpy as np\r\n",
    "!pip install textrank4zh\r\n",
    "import codecs\r\n",
    "from textrank4zh import TextRank4Sentence"
   ]
  },
  {
   "cell_type": "code",
   "execution_count": 2,
   "metadata": {
    "collapsed": false
   },
   "outputs": [],
   "source": [
    "# 数据读取与清洗\r\n",
    "\r\n",
    "total = []\r\n",
    "\r\n",
    "# 停用词表\r\n",
    "replace_ls = ['技师说：', '[语音]', '[图片]', '你好', '您好','嗯','祝您生活愉快','祝您用车愉快','祝你用车愉快',\r\n",
    "              '点击头像关注，以后可以在关注技师里发起图文咨询或者电话']\r\n",
    "\r\n",
    "# 只加载测试集\r\n",
    "with open('data/data1407/AutoMaster_TestSet.csv', 'r', encoding='UTF-8') as f:\r\n",
    "    for i, line in enumerate(f):\r\n",
    "        if i==0:\r\n",
    "            continue\r\n",
    "        line = line[:-1].split(',')\r\n",
    "\r\n",
    "        # 留下顾客和技师的话\r\n",
    "        texts = [line[-2]]\r\n",
    "        # 只留下技师说的话\r\n",
    "        # texts = []\r\n",
    "        for text in line[-1].split('|'):\r\n",
    "            if '技师说：' in text:\r\n",
    "                for word in replace_ls:\r\n",
    "                    text = text.replace(word, '')\r\n",
    "                if text!='':\r\n",
    "                    texts.append(text)\r\n",
    "        total.append('%s\\n' % ('|'.join(texts).replace('\\t', '|')))\r\n",
    "\r\n",
    "with open('data/test.tsv', 'w', encoding='UTF-8') as f:\r\n",
    "    for line in total:\r\n",
    "        f.write(line)"
   ]
  },
  {
   "cell_type": "code",
   "execution_count": 3,
   "metadata": {
    "collapsed": false
   },
   "outputs": [],
   "source": [
    "# 定义摘要函数，使用textrank工具包生成摘要\r\n",
    "def summarize(text, num=4):    # num表示生成几句摘要，试验后取4句效果最好\r\n",
    "    tr4s = TextRank4Sentence()\r\n",
    "    tr4s.analyze(text=text, lower=True, source = 'all_filters')\r\n",
    "    summary = ''\r\n",
    "    for item in tr4s.get_key_sentences(num=num):\r\n",
    "        summary = summary + item.sentence\r\n",
    "    \r\n",
    "    # 如果没有摘要，则填充无意义文字，避免影响csv读取\r\n",
    "    if summary == '':\r\n",
    "        summary = '祝您生活愉快'\r\n",
    "    return summary"
   ]
  },
  {
   "cell_type": "code",
   "execution_count": 4,
   "metadata": {
    "collapsed": false
   },
   "outputs": [
    {
     "name": "stderr",
     "output_type": "stream",
     "text": [
      "  0%|          | 0/20000 [00:00<?, ?it/s]Building prefix dict from the default dictionary ...\n",
      "Dumping model to file cache /tmp/jieba.cache\n",
      "Loading model cost 1.088 seconds.\n",
      "Prefix dict has been built successfully.\n",
      "100%|██████████| 20000/20000 [07:59<00:00, 41.72it/s]\n"
     ]
    }
   ],
   "source": [
    "# 提取摘要\r\n",
    "sums = []\r\n",
    "from tqdm import tqdm\r\n",
    "with open('data/test.tsv', 'r', encoding='UTF-8') as f:\r\n",
    "    for line in tqdm(total):\r\n",
    "        try:\r\n",
    "            text = line.split('|')\r\n",
    "            text.pop(0)\r\n",
    "            text = '。'.join(text)\r\n",
    "        except:\r\n",
    "            text = line\r\n",
    "        sums.append(summarize(text).strip('，'))"
   ]
  },
  {
   "cell_type": "code",
   "execution_count": 5,
   "metadata": {
    "collapsed": false
   },
   "outputs": [],
   "source": [
    "# 生成预测结果文件\r\n",
    "result = pd.DataFrame(columns=['QID','Prediction'])\r\n",
    "result.QID = pd.Series(range(1,20001))\r\n",
    "result.QID = result.QID.apply(lambda x:'Q'+str(x))\r\n",
    "result.Prediction = sums"
   ]
  },
  {
   "cell_type": "code",
   "execution_count": 6,
   "metadata": {
    "collapsed": false
   },
   "outputs": [
    {
     "data": {
      "text/html": [
       "<div>\n",
       "<style scoped>\n",
       "    .dataframe tbody tr th:only-of-type {\n",
       "        vertical-align: middle;\n",
       "    }\n",
       "\n",
       "    .dataframe tbody tr th {\n",
       "        vertical-align: top;\n",
       "    }\n",
       "\n",
       "    .dataframe thead th {\n",
       "        text-align: right;\n",
       "    }\n",
       "</style>\n",
       "<table border=\"1\" class=\"dataframe\">\n",
       "  <thead>\n",
       "    <tr style=\"text-align: right;\">\n",
       "      <th></th>\n",
       "      <th>QID</th>\n",
       "      <th>Prediction</th>\n",
       "    </tr>\n",
       "  </thead>\n",
       "  <tbody>\n",
       "    <tr>\n",
       "      <th>0</th>\n",
       "      <td>Q1</td>\n",
       "      <td>如果已经超出了保修期建议你到当地的大型维修店进行检查，烧机油一般是发动机活塞环间隙过大和气门...</td>\n",
       "    </tr>\n",
       "    <tr>\n",
       "      <th>1</th>\n",
       "      <td>Q2</td>\n",
       "      <td>抛光处理一下就好了50元左右就好了，希望能够帮到你祝你生活愉快</td>\n",
       "    </tr>\n",
       "    <tr>\n",
       "      <th>2</th>\n",
       "      <td>Q3</td>\n",
       "      <td>气囊油丝坏了吗，这个价格不贵</td>\n",
       "    </tr>\n",
       "    <tr>\n",
       "      <th>3</th>\n",
       "      <td>Q4</td>\n",
       "      <td>一：发动机没力，并伴有“啪啪”的漏气声音二：发动机没力，并伴有排气管冒黑烟三：水温高，水箱盖...</td>\n",
       "    </tr>\n",
       "    <tr>\n",
       "      <th>4</th>\n",
       "      <td>Q5</td>\n",
       "      <td>希望能够帮到你可能前轮平衡快脱落或者不平衡造成的建议前轮做一下动平衡就好了</td>\n",
       "    </tr>\n",
       "    <tr>\n",
       "      <th>5</th>\n",
       "      <td>Q6</td>\n",
       "      <td>师傅，车子没有异常，那可能排气管关上缠到了方编袋造成的，或者车子开到修理厂清理一下，希望能够...</td>\n",
       "    </tr>\n",
       "    <tr>\n",
       "      <th>6</th>\n",
       "      <td>Q7</td>\n",
       "      <td>看看是不是绿色的哦这个是没有问题的，可以购买对的，如果要添加的话你还是需要添加绿色的防冻液的</td>\n",
       "    </tr>\n",
       "    <tr>\n",
       "      <th>7</th>\n",
       "      <td>Q8</td>\n",
       "      <td>如果机油灯常亮是不能再使用的，否则会对车辆发动机造成严重伤害，严重时会造成发动机抱死的故障解...</td>\n",
       "    </tr>\n",
       "    <tr>\n",
       "      <th>8</th>\n",
       "      <td>Q9</td>\n",
       "      <td>从这个图片来看，您的轮胎只是在胎面出现了一些裂痕，这种裂痕主要是由于行驶路面的问题导致的，但...</td>\n",
       "    </tr>\n",
       "    <tr>\n",
       "      <th>9</th>\n",
       "      <td>Q10</td>\n",
       "      <td>这种情况有可能是因为停放的时间久了之后，机油的润滑刚开始没有完全润滑到发动机的机械部件，所以...</td>\n",
       "    </tr>\n",
       "    <tr>\n",
       "      <th>10</th>\n",
       "      <td>Q11</td>\n",
       "      <td>不会的拉缸的高速行车对车子没有任何问题，但是高速行车需要注意安全长时间这样开车，对发动机还是...</td>\n",
       "    </tr>\n",
       "    <tr>\n",
       "      <th>11</th>\n",
       "      <td>Q12</td>\n",
       "      <td>前风挡起雾的主要原因，就是因为室内的空气湿度比较大，外界的空气比较冷，这时候在前风挡的位置产...</td>\n",
       "    </tr>\n",
       "    <tr>\n",
       "      <th>12</th>\n",
       "      <td>Q13</td>\n",
       "      <td>你的车辆才跑了不到1700公里，机油应该是没有问题的，这种情况我们可以检查一下，但是应该不会有问题</td>\n",
       "    </tr>\n",
       "    <tr>\n",
       "      <th>13</th>\n",
       "      <td>Q14</td>\n",
       "      <td>不会，但是对电瓶起动机寿命都有一定的影响发动机不会有影响，可以的，很简单</td>\n",
       "    </tr>\n",
       "    <tr>\n",
       "      <th>14</th>\n",
       "      <td>Q15</td>\n",
       "      <td>这个不一定有很好的效果，主要原因是车辆的喇叭跟音响是有关系的，就像是我们家庭的功放，如果是选...</td>\n",
       "    </tr>\n",
       "    <tr>\n",
       "      <th>15</th>\n",
       "      <td>Q16</td>\n",
       "      <td>从这个变形角度来说，只需要整形处理，也就是说的物理处理就可以了，不需要焊接的，但肯定得需要打...</td>\n",
       "    </tr>\n",
       "    <tr>\n",
       "      <th>16</th>\n",
       "      <td>Q17</td>\n",
       "      <td>目前来说国产发动机的声音都是比较大的</td>\n",
       "    </tr>\n",
       "    <tr>\n",
       "      <th>17</th>\n",
       "      <td>Q18</td>\n",
       "      <td>轮胎碰撞过吗一般轮胎不能索赔的，需要更换处理，防止爆胎看是否碰撞过，具体方法是他们检测</td>\n",
       "    </tr>\n",
       "    <tr>\n",
       "      <th>18</th>\n",
       "      <td>Q19</td>\n",
       "      <td>你拖车去4s店吧，别折腾了，让他们给你变速箱油检查一下，首先编程，配置设定试试能不能好最好能...</td>\n",
       "    </tr>\n",
       "    <tr>\n",
       "      <th>19</th>\n",
       "      <td>Q20</td>\n",
       "      <td>根据你的描述是方向盘一边按钮不太好用另一边正常的，这个可以索赔的，不影响安全气囊，索赔更换喇...</td>\n",
       "    </tr>\n",
       "  </tbody>\n",
       "</table>\n",
       "</div>"
      ],
      "text/plain": [
       "    QID                                         Prediction\n",
       "0    Q1  如果已经超出了保修期建议你到当地的大型维修店进行检查，烧机油一般是发动机活塞环间隙过大和气门...\n",
       "1    Q2                    抛光处理一下就好了50元左右就好了，希望能够帮到你祝你生活愉快\n",
       "2    Q3                                     气囊油丝坏了吗，这个价格不贵\n",
       "3    Q4  一：发动机没力，并伴有“啪啪”的漏气声音二：发动机没力，并伴有排气管冒黑烟三：水温高，水箱盖...\n",
       "4    Q5              希望能够帮到你可能前轮平衡快脱落或者不平衡造成的建议前轮做一下动平衡就好了\n",
       "5    Q6  师傅，车子没有异常，那可能排气管关上缠到了方编袋造成的，或者车子开到修理厂清理一下，希望能够...\n",
       "6    Q7     看看是不是绿色的哦这个是没有问题的，可以购买对的，如果要添加的话你还是需要添加绿色的防冻液的\n",
       "7    Q8  如果机油灯常亮是不能再使用的，否则会对车辆发动机造成严重伤害，严重时会造成发动机抱死的故障解...\n",
       "8    Q9  从这个图片来看，您的轮胎只是在胎面出现了一些裂痕，这种裂痕主要是由于行驶路面的问题导致的，但...\n",
       "9   Q10  这种情况有可能是因为停放的时间久了之后，机油的润滑刚开始没有完全润滑到发动机的机械部件，所以...\n",
       "10  Q11  不会的拉缸的高速行车对车子没有任何问题，但是高速行车需要注意安全长时间这样开车，对发动机还是...\n",
       "11  Q12  前风挡起雾的主要原因，就是因为室内的空气湿度比较大，外界的空气比较冷，这时候在前风挡的位置产...\n",
       "12  Q13  你的车辆才跑了不到1700公里，机油应该是没有问题的，这种情况我们可以检查一下，但是应该不会有问题\n",
       "13  Q14               不会，但是对电瓶起动机寿命都有一定的影响发动机不会有影响，可以的，很简单\n",
       "14  Q15  这个不一定有很好的效果，主要原因是车辆的喇叭跟音响是有关系的，就像是我们家庭的功放，如果是选...\n",
       "15  Q16  从这个变形角度来说，只需要整形处理，也就是说的物理处理就可以了，不需要焊接的，但肯定得需要打...\n",
       "16  Q17                                 目前来说国产发动机的声音都是比较大的\n",
       "17  Q18        轮胎碰撞过吗一般轮胎不能索赔的，需要更换处理，防止爆胎看是否碰撞过，具体方法是他们检测\n",
       "18  Q19  你拖车去4s店吧，别折腾了，让他们给你变速箱油检查一下，首先编程，配置设定试试能不能好最好能...\n",
       "19  Q20  根据你的描述是方向盘一边按钮不太好用另一边正常的，这个可以索赔的，不影响安全气囊，索赔更换喇..."
      ]
     },
     "execution_count": 6,
     "metadata": {},
     "output_type": "execute_result"
    }
   ],
   "source": [
    "result[:20]"
   ]
  },
  {
   "cell_type": "code",
   "execution_count": 7,
   "metadata": {
    "collapsed": false
   },
   "outputs": [
    {
     "name": "stdout",
     "output_type": "stream",
     "text": [
      "updating: result.csv (deflated 64%)\n"
     ]
    }
   ],
   "source": [
    "# 保存预测结果文件并打包\r\n",
    "result.to_csv(\"./result.csv\", sep=',', index=False)\r\n",
    "!zip 'submission.zip' 'result.csv'"
   ]
  }
 ],
 "metadata": {
  "kernelspec": {
   "display_name": "Python 3",
   "language": "python",
   "name": "py35-paddle1.2.0"
  },
  "language_info": {
   "codemirror_mode": {
    "name": "ipython",
    "version": 3
   },
   "file_extension": ".py",
   "mimetype": "text/x-python",
   "name": "python",
   "nbconvert_exporter": "python",
   "pygments_lexer": "ipython3",
   "version": "3.7.4"
  }
 },
 "nbformat": 4,
 "nbformat_minor": 1
}
